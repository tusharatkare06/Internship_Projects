{
 "cells": [
  {
   "cell_type": "markdown",
   "id": "5a697974-f3cf-4d52-92a0-a2af9afba906",
   "metadata": {},
   "source": [
    "# Data Science Internship"
   ]
  },
  {
   "cell_type": "markdown",
   "id": "cef1e6bf-e490-48f1-b647-4b75fbf15633",
   "metadata": {},
   "source": [
    "## LEVEL 2"
   ]
  },
  {
   "cell_type": "markdown",
   "id": "77159c25-4acf-4a5e-a9ec-722030a179a7",
   "metadata": {},
   "source": [
    "# Task 1: \n",
    "Table Booking and Online Delivery"
   ]
  },
  {
   "cell_type": "code",
   "execution_count": 1,
   "id": "26c5e8d2-116a-494c-914a-13e0f6d56d30",
   "metadata": {},
   "outputs": [],
   "source": [
    "# lets import all required libraries\n",
    "import numpy as np\n",
    "import pandas as pd"
   ]
  },
  {
   "cell_type": "code",
   "execution_count": 2,
   "id": "5e8040d3-a2fc-4696-b457-f2da25d67fcf",
   "metadata": {},
   "outputs": [],
   "source": [
    "import seaborn as sns\n",
    "import matplotlib.pyplot as plt\n",
    "%matplotlib inline\n",
    "sns.set_style('whitegrid')"
   ]
  },
  {
   "cell_type": "code",
   "execution_count": 3,
   "id": "3e1de498-6669-475f-b8df-3443835c0247",
   "metadata": {},
   "outputs": [],
   "source": [
    "# load the dataset\n",
    "data = pd.read_csv(\"Dataset  (1).csv\")"
   ]
  },
  {
   "cell_type": "code",
   "execution_count": 4,
   "id": "ad3075de-02d4-4d92-b2ad-95d4efbce6a4",
   "metadata": {},
   "outputs": [
    {
     "data": {
      "text/html": [
       "<div>\n",
       "<style scoped>\n",
       "    .dataframe tbody tr th:only-of-type {\n",
       "        vertical-align: middle;\n",
       "    }\n",
       "\n",
       "    .dataframe tbody tr th {\n",
       "        vertical-align: top;\n",
       "    }\n",
       "\n",
       "    .dataframe thead th {\n",
       "        text-align: right;\n",
       "    }\n",
       "</style>\n",
       "<table border=\"1\" class=\"dataframe\">\n",
       "  <thead>\n",
       "    <tr style=\"text-align: right;\">\n",
       "      <th></th>\n",
       "      <th>Restaurant ID</th>\n",
       "      <th>Restaurant Name</th>\n",
       "      <th>Country Code</th>\n",
       "      <th>City</th>\n",
       "      <th>Address</th>\n",
       "      <th>Locality</th>\n",
       "      <th>Locality Verbose</th>\n",
       "      <th>Longitude</th>\n",
       "      <th>Latitude</th>\n",
       "      <th>Cuisines</th>\n",
       "      <th>...</th>\n",
       "      <th>Currency</th>\n",
       "      <th>Has Table booking</th>\n",
       "      <th>Has Online delivery</th>\n",
       "      <th>Is delivering now</th>\n",
       "      <th>Switch to order menu</th>\n",
       "      <th>Price range</th>\n",
       "      <th>Aggregate rating</th>\n",
       "      <th>Rating color</th>\n",
       "      <th>Rating text</th>\n",
       "      <th>Votes</th>\n",
       "    </tr>\n",
       "  </thead>\n",
       "  <tbody>\n",
       "    <tr>\n",
       "      <th>0</th>\n",
       "      <td>6317637</td>\n",
       "      <td>Le Petit Souffle</td>\n",
       "      <td>162</td>\n",
       "      <td>Makati City</td>\n",
       "      <td>Third Floor, Century City Mall, Kalayaan Avenu...</td>\n",
       "      <td>Century City Mall, Poblacion, Makati City</td>\n",
       "      <td>Century City Mall, Poblacion, Makati City, Mak...</td>\n",
       "      <td>121.027535</td>\n",
       "      <td>14.565443</td>\n",
       "      <td>French, Japanese, Desserts</td>\n",
       "      <td>...</td>\n",
       "      <td>Botswana Pula(P)</td>\n",
       "      <td>Yes</td>\n",
       "      <td>No</td>\n",
       "      <td>No</td>\n",
       "      <td>No</td>\n",
       "      <td>3</td>\n",
       "      <td>4.8</td>\n",
       "      <td>Dark Green</td>\n",
       "      <td>Excellent</td>\n",
       "      <td>314</td>\n",
       "    </tr>\n",
       "  </tbody>\n",
       "</table>\n",
       "<p>1 rows × 21 columns</p>\n",
       "</div>"
      ],
      "text/plain": [
       "   Restaurant ID   Restaurant Name  Country Code         City  \\\n",
       "0        6317637  Le Petit Souffle           162  Makati City   \n",
       "\n",
       "                                             Address  \\\n",
       "0  Third Floor, Century City Mall, Kalayaan Avenu...   \n",
       "\n",
       "                                    Locality  \\\n",
       "0  Century City Mall, Poblacion, Makati City   \n",
       "\n",
       "                                    Locality Verbose   Longitude   Latitude  \\\n",
       "0  Century City Mall, Poblacion, Makati City, Mak...  121.027535  14.565443   \n",
       "\n",
       "                     Cuisines  ...          Currency Has Table booking  \\\n",
       "0  French, Japanese, Desserts  ...  Botswana Pula(P)               Yes   \n",
       "\n",
       "  Has Online delivery Is delivering now Switch to order menu Price range  \\\n",
       "0                  No                No                   No           3   \n",
       "\n",
       "   Aggregate rating  Rating color Rating text Votes  \n",
       "0               4.8    Dark Green   Excellent   314  \n",
       "\n",
       "[1 rows x 21 columns]"
      ]
     },
     "execution_count": 4,
     "metadata": {},
     "output_type": "execute_result"
    }
   ],
   "source": [
    "data.head(1)"
   ]
  },
  {
   "cell_type": "code",
   "execution_count": 5,
   "id": "96823e79-5ee5-45b2-812f-65a86a9c4318",
   "metadata": {},
   "outputs": [
    {
     "data": {
      "text/plain": [
       "Index(['Restaurant ID', 'Restaurant Name', 'Country Code', 'City', 'Address',\n",
       "       'Locality', 'Locality Verbose', 'Longitude', 'Latitude', 'Cuisines',\n",
       "       'Average Cost for two', 'Currency', 'Has Table booking',\n",
       "       'Has Online delivery', 'Is delivering now', 'Switch to order menu',\n",
       "       'Price range', 'Aggregate rating', 'Rating color', 'Rating text',\n",
       "       'Votes'],\n",
       "      dtype='object')"
      ]
     },
     "execution_count": 5,
     "metadata": {},
     "output_type": "execute_result"
    }
   ],
   "source": [
    "data.columns"
   ]
  },
  {
   "cell_type": "markdown",
   "id": "6794e945-25c8-4261-9e14-db09d2702d71",
   "metadata": {},
   "source": [
    "# Determine the percentage of restaurants that\n",
    "# offer table booking and online delivery."
   ]
  },
  {
   "cell_type": "code",
   "execution_count": 6,
   "id": "f387730c-b84d-4c74-af49-9baa47cdab63",
   "metadata": {},
   "outputs": [],
   "source": [
    "table_booking_resto = data[data['Has Table booking']=='Yes']"
   ]
  },
  {
   "cell_type": "code",
   "execution_count": 7,
   "id": "a97ec1a2-268a-4ec3-8ee6-378c45fe8129",
   "metadata": {},
   "outputs": [
    {
     "data": {
      "text/plain": [
       "1158"
      ]
     },
     "execution_count": 7,
     "metadata": {},
     "output_type": "execute_result"
    }
   ],
   "source": [
    "len(table_booking_resto)"
   ]
  },
  {
   "cell_type": "code",
   "execution_count": 8,
   "id": "ed97f929-3777-4ef4-845d-8764661339d2",
   "metadata": {},
   "outputs": [],
   "source": [
    "#calculate percentage of table booking resto\n",
    "\n",
    "percentage_of_table_booking = (len(table_booking_resto) / len(data))*100"
   ]
  },
  {
   "cell_type": "code",
   "execution_count": 9,
   "id": "6607794d-d11d-4aac-a180-0d20363b023d",
   "metadata": {},
   "outputs": [],
   "source": [
    "online_delivery_resto = data[data['Has Online delivery']=='Yes']"
   ]
  },
  {
   "cell_type": "code",
   "execution_count": 10,
   "id": "182011c2-521e-423e-802e-66a778302722",
   "metadata": {},
   "outputs": [
    {
     "data": {
      "text/plain": [
       "2451"
      ]
     },
     "execution_count": 10,
     "metadata": {},
     "output_type": "execute_result"
    }
   ],
   "source": [
    "len(online_delivery_resto)"
   ]
  },
  {
   "cell_type": "code",
   "execution_count": 11,
   "id": "1cff5cdf-d3d2-496e-97e7-f1202659dcc8",
   "metadata": {},
   "outputs": [],
   "source": [
    "percentage_of_online_delivery = (len(online_delivery_resto) / len(data)) * 100"
   ]
  },
  {
   "cell_type": "code",
   "execution_count": 12,
   "id": "9f19dca9-6685-4e66-aa4b-c2ea5b2314d0",
   "metadata": {},
   "outputs": [
    {
     "name": "stdout",
     "output_type": "stream",
     "text": [
      "Percentage of restaurants offering table booking: 12.124384881164275\n",
      "Percentage of restaurants offering online delivery: 25.662234321013504\n"
     ]
    }
   ],
   "source": [
    "print(\"Percentage of restaurants offering table booking:\", percentage_of_table_booking)\n",
    "print(\"Percentage of restaurants offering online delivery:\", percentage_of_online_delivery)"
   ]
  },
  {
   "cell_type": "markdown",
   "id": "064f39e0-e8a3-4900-8b39-8eaf610bcdf6",
   "metadata": {},
   "source": [
    "# Compare the average ratings of restaurants \n",
    "with table booking and those without."
   ]
  },
  {
   "cell_type": "code",
   "execution_count": 13,
   "id": "2a3697f1-80eb-4bf7-99f9-46b3fe405c12",
   "metadata": {},
   "outputs": [],
   "source": [
    "Average_rating_with_table_booking = table_booking_resto['Aggregate rating'].mean()"
   ]
  },
  {
   "cell_type": "code",
   "execution_count": 14,
   "id": "c1f5a8a8-9c97-4070-bcf3-bb9b6a061382",
   "metadata": {},
   "outputs": [],
   "source": [
    "without_table_booking_resto = data[data['Has Table booking']=='No']"
   ]
  },
  {
   "cell_type": "code",
   "execution_count": 15,
   "id": "8ed411b7-d91d-470c-b821-a64a45a7213c",
   "metadata": {},
   "outputs": [],
   "source": [
    "Average_rating_without_table_booking = without_table_booking_resto['Aggregate rating'].mean()"
   ]
  },
  {
   "cell_type": "code",
   "execution_count": 16,
   "id": "8d575dde-5108-4319-94ff-b252bb96b4c1",
   "metadata": {},
   "outputs": [
    {
     "name": "stdout",
     "output_type": "stream",
     "text": [
      "Average rating for restaurants with table booking: 3.4419689119170984\n",
      "Average rating for restaurants without table booking: 2.559358989634219\n"
     ]
    }
   ],
   "source": [
    "print(\"Average rating for restaurants with table booking:\", Average_rating_with_table_booking)\n",
    "print(\"Average rating for restaurants without table booking:\", Average_rating_without_table_booking)"
   ]
  },
  {
   "cell_type": "markdown",
   "id": "696f2faa-54df-420a-978a-8005cd7b349a",
   "metadata": {},
   "source": [
    "# Analyze the availability of online delivery among restaurants with different price ranges.\n"
   ]
  },
  {
   "cell_type": "code",
   "execution_count": 17,
   "id": "a5c6754c-adaf-4f40-938a-6449b440491f",
   "metadata": {},
   "outputs": [],
   "source": [
    "# group the resto with price range\n",
    "\n",
    "group_resto_by_price_range = data.groupby('Price range')"
   ]
  },
  {
   "cell_type": "code",
   "execution_count": 18,
   "id": "92f7618b-5442-4bfc-86a9-7addb6223291",
   "metadata": {},
   "outputs": [],
   "source": [
    "# Initialize a dictionary to store percentage of online delivery availability for each price range\n",
    "online_delivery_percentage = {}\n"
   ]
  },
  {
   "cell_type": "code",
   "execution_count": 19,
   "id": "5c2f05dd-db86-45bd-b447-ca1c475633e7",
   "metadata": {},
   "outputs": [],
   "source": [
    "# Calculate the percentage of restaurants in each price range that offer online delivery\n",
    "for price_range, group_data in group_resto_by_price_range:\n",
    "    total_restaurants_in_range = len(group_data)\n",
    "    online_delivery_count = len(group_data[group_data['Has Online delivery'] == 'Yes'])\n",
    "    online_delivery_percentage[price_range] = (online_delivery_count / total_restaurants_in_range) * 100\n"
   ]
  },
  {
   "cell_type": "code",
   "execution_count": 20,
   "id": "7df8cadc-df47-432c-b276-3c8c5a264d7b",
   "metadata": {},
   "outputs": [
    {
     "name": "stdout",
     "output_type": "stream",
     "text": [
      "   Online Delivery Percentage\n",
      "1                   15.774077\n",
      "2                   41.310633\n",
      "3                   29.190341\n",
      "4                    9.044369\n"
     ]
    }
   ],
   "source": [
    "\n",
    "# Convert the dictionary into a DataFrame for easier analysis\n",
    "online_delivery_df = pd.DataFrame.from_dict(online_delivery_percentage, orient='index', columns=['Online Delivery Percentage'])\n",
    "\n",
    "print(online_delivery_df)"
   ]
  },
  {
   "cell_type": "markdown",
   "id": "e615dff3-7760-47eb-9285-d2c4ca985da4",
   "metadata": {},
   "source": [
    "Based on the provided data, we can observe the following online delivery percentages among restaurants with different price ranges:\r\n",
    "\r\n",
    "Price Range 1: 15.77%\r\n",
    "Price Range 2: 41.31%\r\n",
    "Price Range 3: 29.19%\r\n",
    "Price Range 4: 9.04%\r\n",
    "This analysis suggests that restaurants in price range 2 have the highest percentage of offering online delivery, followed by price range 3. On the other hand, restaurants in price range 4 have the lowest percentage of offering online delivery."
   ]
  },
  {
   "cell_type": "markdown",
   "id": "e91d912d-cf05-4ee5-b385-8756c33daa33",
   "metadata": {},
   "source": [
    "## TASK 2"
   ]
  },
  {
   "cell_type": "markdown",
   "id": "a2b58ea9-c465-4e90-a43e-59eaa6f93db3",
   "metadata": {},
   "source": [
    "# Task: Price Range Analysis"
   ]
  },
  {
   "cell_type": "markdown",
   "id": "3c277885-831f-48ec-b695-df4608085ae6",
   "metadata": {},
   "source": [
    "#Determine the most common price range among all the restaurants"
   ]
  },
  {
   "cell_type": "code",
   "execution_count": 21,
   "id": "0851e810-7b81-4f18-882f-6aef88c9bb71",
   "metadata": {},
   "outputs": [
    {
     "data": {
      "text/plain": [
       "Price range\n",
       "1    4444\n",
       "2    3113\n",
       "3    1408\n",
       "4     586\n",
       "Name: count, dtype: int64"
      ]
     },
     "execution_count": 21,
     "metadata": {},
     "output_type": "execute_result"
    }
   ],
   "source": [
    "data['Price range'].value_counts()"
   ]
  },
  {
   "cell_type": "code",
   "execution_count": 22,
   "id": "8c8824bc-e2aa-4ec5-92da-a79387d0d0d3",
   "metadata": {},
   "outputs": [],
   "source": [
    "#count the occurences of each price range\n",
    "price_range_counts = data['Price range'].value_counts()"
   ]
  },
  {
   "cell_type": "code",
   "execution_count": 23,
   "id": "3dfd6710-31bd-4ded-979d-9da07e4abf50",
   "metadata": {},
   "outputs": [],
   "source": [
    "most_common_price_range = price_range_counts.idxmax()"
   ]
  },
  {
   "cell_type": "code",
   "execution_count": 24,
   "id": "8fdbfca9-b12a-4498-899f-a01fd203fdaa",
   "metadata": {},
   "outputs": [
    {
     "name": "stdout",
     "output_type": "stream",
     "text": [
      "The most common price range among all the restaurants is: 1\n"
     ]
    }
   ],
   "source": [
    "print(\"The most common price range among all the restaurants is:\", most_common_price_range)\n"
   ]
  },
  {
   "cell_type": "markdown",
   "id": "1d63d6aa-01d4-44a1-8661-1d55ea9513f2",
   "metadata": {},
   "source": [
    "#Calculate the average rating for each price range"
   ]
  },
  {
   "cell_type": "code",
   "execution_count": 25,
   "id": "f6a2a440-8a90-4913-9f9a-1c9f5f9ae587",
   "metadata": {},
   "outputs": [],
   "source": [
    "average_price_range = data.groupby('Price range')['Aggregate rating']"
   ]
  },
  {
   "cell_type": "code",
   "execution_count": 26,
   "id": "2b7f29ce-ba42-479d-9253-a2e4f9fce0ab",
   "metadata": {},
   "outputs": [
    {
     "name": "stdout",
     "output_type": "stream",
     "text": [
      "Average rating for each price range:\n",
      "Price range\n",
      "1    1.999887\n",
      "2    2.941054\n",
      "3    3.683381\n",
      "4    3.817918\n",
      "Name: Aggregate rating, dtype: float64\n"
     ]
    }
   ],
   "source": [
    "print(\"Average rating for each price range:\")\n",
    "print(average_price_range.mean())"
   ]
  },
  {
   "cell_type": "markdown",
   "id": "c584d928-55fa-49b3-9a57-759e0882b162",
   "metadata": {},
   "source": [
    "Identify the color that represents the highest\n",
    "average rating among different price ranges.\n"
   ]
  },
  {
   "cell_type": "code",
   "execution_count": 27,
   "id": "2e7dade1-d88a-465d-960b-75bb3d0ee713",
   "metadata": {},
   "outputs": [],
   "source": [
    "average_price_Range = average_price_range.mean()"
   ]
  },
  {
   "cell_type": "code",
   "execution_count": 28,
   "id": "2c80cf82-2aad-4973-9158-3cbbf8ade2e6",
   "metadata": {},
   "outputs": [],
   "source": [
    "# Initialize a dictionary to store the color associated with the highest average rating for each price range\n",
    "highest_rating_color = {}\n",
    "\n"
   ]
  },
  {
   "cell_type": "code",
   "execution_count": 29,
   "id": "0f2d68b9-0d50-4f0c-a20c-99c493c0e7c5",
   "metadata": {},
   "outputs": [],
   "source": [
    "# Iterate over each price range\n",
    "for price_range, avg_rating in average_price_Range.items():\n",
    "    # Filter data for the current price range\n",
    "    subset_data = data[data['Price range'] == price_range]\n",
    "    # Find the color associated with the highest average rating\n",
    "    highest_rating_color[price_range] = subset_data[subset_data['Aggregate rating'] == subset_data['Aggregate rating'].max()]['Rating color'].iloc[0]\n"
   ]
  },
  {
   "cell_type": "code",
   "execution_count": 30,
   "id": "cececca3-7a93-4ffa-b9f0-e096ac90d2dd",
   "metadata": {},
   "outputs": [
    {
     "name": "stdout",
     "output_type": "stream",
     "text": [
      "Color representing the highest average rating for each price range:\n",
      "{1: 'Dark Green', 2: 'Dark Green', 3: 'Dark Green', 4: 'Dark Green'}\n"
     ]
    }
   ],
   "source": [
    "\n",
    "print(\"Color representing the highest average rating for each price range:\")\n",
    "print(highest_rating_color)"
   ]
  },
  {
   "cell_type": "markdown",
   "id": "a1cb6c4c-c56f-4762-ba36-5763664cc150",
   "metadata": {},
   "source": [
    "## TASK 3\n",
    "Task: Feature Engineering"
   ]
  },
  {
   "cell_type": "markdown",
   "id": "396b138b-e4df-4b53-b632-e5f9c2c58018",
   "metadata": {},
   "source": [
    "Extract additional features from the existing\n",
    "columns, such as the length of the restaurant\n",
    "name or address."
   ]
  },
  {
   "cell_type": "code",
   "execution_count": 31,
   "id": "74da5013-7c2a-4ac4-a77a-e2338b58ad43",
   "metadata": {},
   "outputs": [],
   "source": [
    "# Extract the length of the restaurant name\n",
    "data['Restaurant Name Length'] = data['Restaurant Name'].str.len()\n"
   ]
  },
  {
   "cell_type": "code",
   "execution_count": 32,
   "id": "5a2c1b90-b70e-4770-bc9a-07a5c5412ed2",
   "metadata": {},
   "outputs": [],
   "source": [
    "\n",
    "# Extract the length of the address\n",
    "data['Address Length'] = data['Address'].str.len()\n"
   ]
  },
  {
   "cell_type": "code",
   "execution_count": 33,
   "id": "60560fb2-dfb4-4de7-ae91-41a0971f2f70",
   "metadata": {},
   "outputs": [
    {
     "data": {
      "text/html": [
       "<div>\n",
       "<style scoped>\n",
       "    .dataframe tbody tr th:only-of-type {\n",
       "        vertical-align: middle;\n",
       "    }\n",
       "\n",
       "    .dataframe tbody tr th {\n",
       "        vertical-align: top;\n",
       "    }\n",
       "\n",
       "    .dataframe thead th {\n",
       "        text-align: right;\n",
       "    }\n",
       "</style>\n",
       "<table border=\"1\" class=\"dataframe\">\n",
       "  <thead>\n",
       "    <tr style=\"text-align: right;\">\n",
       "      <th></th>\n",
       "      <th>Restaurant ID</th>\n",
       "      <th>Restaurant Name</th>\n",
       "      <th>Country Code</th>\n",
       "      <th>City</th>\n",
       "      <th>Address</th>\n",
       "      <th>Locality</th>\n",
       "      <th>Locality Verbose</th>\n",
       "      <th>Longitude</th>\n",
       "      <th>Latitude</th>\n",
       "      <th>Cuisines</th>\n",
       "      <th>...</th>\n",
       "      <th>Has Online delivery</th>\n",
       "      <th>Is delivering now</th>\n",
       "      <th>Switch to order menu</th>\n",
       "      <th>Price range</th>\n",
       "      <th>Aggregate rating</th>\n",
       "      <th>Rating color</th>\n",
       "      <th>Rating text</th>\n",
       "      <th>Votes</th>\n",
       "      <th>Restaurant Name Length</th>\n",
       "      <th>Address Length</th>\n",
       "    </tr>\n",
       "  </thead>\n",
       "  <tbody>\n",
       "    <tr>\n",
       "      <th>0</th>\n",
       "      <td>6317637</td>\n",
       "      <td>Le Petit Souffle</td>\n",
       "      <td>162</td>\n",
       "      <td>Makati City</td>\n",
       "      <td>Third Floor, Century City Mall, Kalayaan Avenu...</td>\n",
       "      <td>Century City Mall, Poblacion, Makati City</td>\n",
       "      <td>Century City Mall, Poblacion, Makati City, Mak...</td>\n",
       "      <td>121.027535</td>\n",
       "      <td>14.565443</td>\n",
       "      <td>French, Japanese, Desserts</td>\n",
       "      <td>...</td>\n",
       "      <td>No</td>\n",
       "      <td>No</td>\n",
       "      <td>No</td>\n",
       "      <td>3</td>\n",
       "      <td>4.8</td>\n",
       "      <td>Dark Green</td>\n",
       "      <td>Excellent</td>\n",
       "      <td>314</td>\n",
       "      <td>16</td>\n",
       "      <td>71</td>\n",
       "    </tr>\n",
       "    <tr>\n",
       "      <th>1</th>\n",
       "      <td>6304287</td>\n",
       "      <td>Izakaya Kikufuji</td>\n",
       "      <td>162</td>\n",
       "      <td>Makati City</td>\n",
       "      <td>Little Tokyo, 2277 Chino Roces Avenue, Legaspi...</td>\n",
       "      <td>Little Tokyo, Legaspi Village, Makati City</td>\n",
       "      <td>Little Tokyo, Legaspi Village, Makati City, Ma...</td>\n",
       "      <td>121.014101</td>\n",
       "      <td>14.553708</td>\n",
       "      <td>Japanese</td>\n",
       "      <td>...</td>\n",
       "      <td>No</td>\n",
       "      <td>No</td>\n",
       "      <td>No</td>\n",
       "      <td>3</td>\n",
       "      <td>4.5</td>\n",
       "      <td>Dark Green</td>\n",
       "      <td>Excellent</td>\n",
       "      <td>591</td>\n",
       "      <td>16</td>\n",
       "      <td>67</td>\n",
       "    </tr>\n",
       "  </tbody>\n",
       "</table>\n",
       "<p>2 rows × 23 columns</p>\n",
       "</div>"
      ],
      "text/plain": [
       "   Restaurant ID   Restaurant Name  Country Code         City  \\\n",
       "0        6317637  Le Petit Souffle           162  Makati City   \n",
       "1        6304287  Izakaya Kikufuji           162  Makati City   \n",
       "\n",
       "                                             Address  \\\n",
       "0  Third Floor, Century City Mall, Kalayaan Avenu...   \n",
       "1  Little Tokyo, 2277 Chino Roces Avenue, Legaspi...   \n",
       "\n",
       "                                     Locality  \\\n",
       "0   Century City Mall, Poblacion, Makati City   \n",
       "1  Little Tokyo, Legaspi Village, Makati City   \n",
       "\n",
       "                                    Locality Verbose   Longitude   Latitude  \\\n",
       "0  Century City Mall, Poblacion, Makati City, Mak...  121.027535  14.565443   \n",
       "1  Little Tokyo, Legaspi Village, Makati City, Ma...  121.014101  14.553708   \n",
       "\n",
       "                     Cuisines  ...  Has Online delivery Is delivering now  \\\n",
       "0  French, Japanese, Desserts  ...                   No                No   \n",
       "1                    Japanese  ...                   No                No   \n",
       "\n",
       "  Switch to order menu Price range Aggregate rating Rating color  Rating text  \\\n",
       "0                   No           3              4.8   Dark Green    Excellent   \n",
       "1                   No           3              4.5   Dark Green    Excellent   \n",
       "\n",
       "   Votes Restaurant Name Length Address Length  \n",
       "0    314                     16             71  \n",
       "1    591                     16             67  \n",
       "\n",
       "[2 rows x 23 columns]"
      ]
     },
     "execution_count": 33,
     "metadata": {},
     "output_type": "execute_result"
    }
   ],
   "source": [
    "\n",
    "# Display the DataFrame with the new features\n",
    "data.head(2)"
   ]
  },
  {
   "cell_type": "code",
   "execution_count": 34,
   "id": "1d555d55-8fa6-4b5e-87e9-617955dc8719",
   "metadata": {},
   "outputs": [
    {
     "data": {
      "text/plain": [
       "Index(['Restaurant ID', 'Restaurant Name', 'Country Code', 'City', 'Address',\n",
       "       'Locality', 'Locality Verbose', 'Longitude', 'Latitude', 'Cuisines',\n",
       "       'Average Cost for two', 'Currency', 'Has Table booking',\n",
       "       'Has Online delivery', 'Is delivering now', 'Switch to order menu',\n",
       "       'Price range', 'Aggregate rating', 'Rating color', 'Rating text',\n",
       "       'Votes', 'Restaurant Name Length', 'Address Length'],\n",
       "      dtype='object')"
      ]
     },
     "execution_count": 34,
     "metadata": {},
     "output_type": "execute_result"
    }
   ],
   "source": [
    "data.columns"
   ]
  },
  {
   "cell_type": "markdown",
   "id": "24417d93-b7ce-48bc-afbe-6d9373f2ff45",
   "metadata": {},
   "source": [
    "Create new features like \"Has Table Booking\"\n",
    "or \"Has Online Delivery\" by encoding\n",
    "categorical variables."
   ]
  },
  {
   "cell_type": "code",
   "execution_count": 35,
   "id": "14532454-3013-47bb-9c0d-755d40100466",
   "metadata": {},
   "outputs": [],
   "source": [
    "# Perform one-hot encoding for 'Has Table Booking' and 'Has Online Delivery'\n",
    "# data = pd.get_dummies(data, columns=['Has Table booking', 'Has Online delivery'])\n"
   ]
  },
  {
   "cell_type": "code",
   "execution_count": 36,
   "id": "1f99b529-5687-4c31-9567-42927f3e95e5",
   "metadata": {},
   "outputs": [],
   "source": [
    "# Perform one-hot encoding for 'Has Table Booking' and 'Has Online Delivery'\n",
    "data['Has_Table_Booking'] = (data['Has Table booking'] == 'Yes').astype(int)\n",
    "data['Has_Online_Delivery'] = (data['Has Online delivery'] == 'Yes').astype(int)\n",
    "\n"
   ]
  },
  {
   "cell_type": "code",
   "execution_count": 37,
   "id": "5a53a316-a286-4b0b-8f08-7d1078a746a0",
   "metadata": {},
   "outputs": [
    {
     "data": {
      "text/html": [
       "<div>\n",
       "<style scoped>\n",
       "    .dataframe tbody tr th:only-of-type {\n",
       "        vertical-align: middle;\n",
       "    }\n",
       "\n",
       "    .dataframe tbody tr th {\n",
       "        vertical-align: top;\n",
       "    }\n",
       "\n",
       "    .dataframe thead th {\n",
       "        text-align: right;\n",
       "    }\n",
       "</style>\n",
       "<table border=\"1\" class=\"dataframe\">\n",
       "  <thead>\n",
       "    <tr style=\"text-align: right;\">\n",
       "      <th></th>\n",
       "      <th>Restaurant ID</th>\n",
       "      <th>Restaurant Name</th>\n",
       "      <th>Country Code</th>\n",
       "      <th>City</th>\n",
       "      <th>Address</th>\n",
       "      <th>Locality</th>\n",
       "      <th>Locality Verbose</th>\n",
       "      <th>Longitude</th>\n",
       "      <th>Latitude</th>\n",
       "      <th>Cuisines</th>\n",
       "      <th>...</th>\n",
       "      <th>Switch to order menu</th>\n",
       "      <th>Price range</th>\n",
       "      <th>Aggregate rating</th>\n",
       "      <th>Rating color</th>\n",
       "      <th>Rating text</th>\n",
       "      <th>Votes</th>\n",
       "      <th>Restaurant Name Length</th>\n",
       "      <th>Address Length</th>\n",
       "      <th>Has_Table_Booking</th>\n",
       "      <th>Has_Online_Delivery</th>\n",
       "    </tr>\n",
       "  </thead>\n",
       "  <tbody>\n",
       "    <tr>\n",
       "      <th>0</th>\n",
       "      <td>6317637</td>\n",
       "      <td>Le Petit Souffle</td>\n",
       "      <td>162</td>\n",
       "      <td>Makati City</td>\n",
       "      <td>Third Floor, Century City Mall, Kalayaan Avenu...</td>\n",
       "      <td>Century City Mall, Poblacion, Makati City</td>\n",
       "      <td>Century City Mall, Poblacion, Makati City, Mak...</td>\n",
       "      <td>121.027535</td>\n",
       "      <td>14.565443</td>\n",
       "      <td>French, Japanese, Desserts</td>\n",
       "      <td>...</td>\n",
       "      <td>No</td>\n",
       "      <td>3</td>\n",
       "      <td>4.8</td>\n",
       "      <td>Dark Green</td>\n",
       "      <td>Excellent</td>\n",
       "      <td>314</td>\n",
       "      <td>16</td>\n",
       "      <td>71</td>\n",
       "      <td>1</td>\n",
       "      <td>0</td>\n",
       "    </tr>\n",
       "    <tr>\n",
       "      <th>1</th>\n",
       "      <td>6304287</td>\n",
       "      <td>Izakaya Kikufuji</td>\n",
       "      <td>162</td>\n",
       "      <td>Makati City</td>\n",
       "      <td>Little Tokyo, 2277 Chino Roces Avenue, Legaspi...</td>\n",
       "      <td>Little Tokyo, Legaspi Village, Makati City</td>\n",
       "      <td>Little Tokyo, Legaspi Village, Makati City, Ma...</td>\n",
       "      <td>121.014101</td>\n",
       "      <td>14.553708</td>\n",
       "      <td>Japanese</td>\n",
       "      <td>...</td>\n",
       "      <td>No</td>\n",
       "      <td>3</td>\n",
       "      <td>4.5</td>\n",
       "      <td>Dark Green</td>\n",
       "      <td>Excellent</td>\n",
       "      <td>591</td>\n",
       "      <td>16</td>\n",
       "      <td>67</td>\n",
       "      <td>1</td>\n",
       "      <td>0</td>\n",
       "    </tr>\n",
       "    <tr>\n",
       "      <th>2</th>\n",
       "      <td>6300002</td>\n",
       "      <td>Heat - Edsa Shangri-La</td>\n",
       "      <td>162</td>\n",
       "      <td>Mandaluyong City</td>\n",
       "      <td>Edsa Shangri-La, 1 Garden Way, Ortigas, Mandal...</td>\n",
       "      <td>Edsa Shangri-La, Ortigas, Mandaluyong City</td>\n",
       "      <td>Edsa Shangri-La, Ortigas, Mandaluyong City, Ma...</td>\n",
       "      <td>121.056831</td>\n",
       "      <td>14.581404</td>\n",
       "      <td>Seafood, Asian, Filipino, Indian</td>\n",
       "      <td>...</td>\n",
       "      <td>No</td>\n",
       "      <td>4</td>\n",
       "      <td>4.4</td>\n",
       "      <td>Green</td>\n",
       "      <td>Very Good</td>\n",
       "      <td>270</td>\n",
       "      <td>22</td>\n",
       "      <td>56</td>\n",
       "      <td>1</td>\n",
       "      <td>0</td>\n",
       "    </tr>\n",
       "    <tr>\n",
       "      <th>3</th>\n",
       "      <td>6318506</td>\n",
       "      <td>Ooma</td>\n",
       "      <td>162</td>\n",
       "      <td>Mandaluyong City</td>\n",
       "      <td>Third Floor, Mega Fashion Hall, SM Megamall, O...</td>\n",
       "      <td>SM Megamall, Ortigas, Mandaluyong City</td>\n",
       "      <td>SM Megamall, Ortigas, Mandaluyong City, Mandal...</td>\n",
       "      <td>121.056475</td>\n",
       "      <td>14.585318</td>\n",
       "      <td>Japanese, Sushi</td>\n",
       "      <td>...</td>\n",
       "      <td>No</td>\n",
       "      <td>4</td>\n",
       "      <td>4.9</td>\n",
       "      <td>Dark Green</td>\n",
       "      <td>Excellent</td>\n",
       "      <td>365</td>\n",
       "      <td>4</td>\n",
       "      <td>70</td>\n",
       "      <td>0</td>\n",
       "      <td>0</td>\n",
       "    </tr>\n",
       "    <tr>\n",
       "      <th>4</th>\n",
       "      <td>6314302</td>\n",
       "      <td>Sambo Kojin</td>\n",
       "      <td>162</td>\n",
       "      <td>Mandaluyong City</td>\n",
       "      <td>Third Floor, Mega Atrium, SM Megamall, Ortigas...</td>\n",
       "      <td>SM Megamall, Ortigas, Mandaluyong City</td>\n",
       "      <td>SM Megamall, Ortigas, Mandaluyong City, Mandal...</td>\n",
       "      <td>121.057508</td>\n",
       "      <td>14.584450</td>\n",
       "      <td>Japanese, Korean</td>\n",
       "      <td>...</td>\n",
       "      <td>No</td>\n",
       "      <td>4</td>\n",
       "      <td>4.8</td>\n",
       "      <td>Dark Green</td>\n",
       "      <td>Excellent</td>\n",
       "      <td>229</td>\n",
       "      <td>11</td>\n",
       "      <td>64</td>\n",
       "      <td>1</td>\n",
       "      <td>0</td>\n",
       "    </tr>\n",
       "  </tbody>\n",
       "</table>\n",
       "<p>5 rows × 25 columns</p>\n",
       "</div>"
      ],
      "text/plain": [
       "   Restaurant ID         Restaurant Name  Country Code              City  \\\n",
       "0        6317637        Le Petit Souffle           162       Makati City   \n",
       "1        6304287        Izakaya Kikufuji           162       Makati City   \n",
       "2        6300002  Heat - Edsa Shangri-La           162  Mandaluyong City   \n",
       "3        6318506                    Ooma           162  Mandaluyong City   \n",
       "4        6314302             Sambo Kojin           162  Mandaluyong City   \n",
       "\n",
       "                                             Address  \\\n",
       "0  Third Floor, Century City Mall, Kalayaan Avenu...   \n",
       "1  Little Tokyo, 2277 Chino Roces Avenue, Legaspi...   \n",
       "2  Edsa Shangri-La, 1 Garden Way, Ortigas, Mandal...   \n",
       "3  Third Floor, Mega Fashion Hall, SM Megamall, O...   \n",
       "4  Third Floor, Mega Atrium, SM Megamall, Ortigas...   \n",
       "\n",
       "                                     Locality  \\\n",
       "0   Century City Mall, Poblacion, Makati City   \n",
       "1  Little Tokyo, Legaspi Village, Makati City   \n",
       "2  Edsa Shangri-La, Ortigas, Mandaluyong City   \n",
       "3      SM Megamall, Ortigas, Mandaluyong City   \n",
       "4      SM Megamall, Ortigas, Mandaluyong City   \n",
       "\n",
       "                                    Locality Verbose   Longitude   Latitude  \\\n",
       "0  Century City Mall, Poblacion, Makati City, Mak...  121.027535  14.565443   \n",
       "1  Little Tokyo, Legaspi Village, Makati City, Ma...  121.014101  14.553708   \n",
       "2  Edsa Shangri-La, Ortigas, Mandaluyong City, Ma...  121.056831  14.581404   \n",
       "3  SM Megamall, Ortigas, Mandaluyong City, Mandal...  121.056475  14.585318   \n",
       "4  SM Megamall, Ortigas, Mandaluyong City, Mandal...  121.057508  14.584450   \n",
       "\n",
       "                           Cuisines  ...  Switch to order menu Price range  \\\n",
       "0        French, Japanese, Desserts  ...                    No           3   \n",
       "1                          Japanese  ...                    No           3   \n",
       "2  Seafood, Asian, Filipino, Indian  ...                    No           4   \n",
       "3                   Japanese, Sushi  ...                    No           4   \n",
       "4                  Japanese, Korean  ...                    No           4   \n",
       "\n",
       "  Aggregate rating Rating color Rating text Votes  Restaurant Name Length  \\\n",
       "0              4.8   Dark Green   Excellent   314                      16   \n",
       "1              4.5   Dark Green   Excellent   591                      16   \n",
       "2              4.4        Green   Very Good   270                      22   \n",
       "3              4.9   Dark Green   Excellent   365                       4   \n",
       "4              4.8   Dark Green   Excellent   229                      11   \n",
       "\n",
       "   Address Length Has_Table_Booking Has_Online_Delivery  \n",
       "0              71                 1                   0  \n",
       "1              67                 1                   0  \n",
       "2              56                 1                   0  \n",
       "3              70                 0                   0  \n",
       "4              64                 1                   0  \n",
       "\n",
       "[5 rows x 25 columns]"
      ]
     },
     "execution_count": 37,
     "metadata": {},
     "output_type": "execute_result"
    }
   ],
   "source": [
    "data.head()"
   ]
  },
  {
   "cell_type": "code",
   "execution_count": 38,
   "id": "095384a0-14af-4d3f-9ca2-d8fcae1055b6",
   "metadata": {},
   "outputs": [
    {
     "data": {
      "text/plain": [
       "Index(['Restaurant ID', 'Restaurant Name', 'Country Code', 'City', 'Address',\n",
       "       'Locality', 'Locality Verbose', 'Longitude', 'Latitude', 'Cuisines',\n",
       "       'Average Cost for two', 'Currency', 'Has Table booking',\n",
       "       'Has Online delivery', 'Is delivering now', 'Switch to order menu',\n",
       "       'Price range', 'Aggregate rating', 'Rating color', 'Rating text',\n",
       "       'Votes', 'Restaurant Name Length', 'Address Length',\n",
       "       'Has_Table_Booking', 'Has_Online_Delivery'],\n",
       "      dtype='object')"
      ]
     },
     "execution_count": 38,
     "metadata": {},
     "output_type": "execute_result"
    }
   ],
   "source": [
    "data.columns"
   ]
  },
  {
   "cell_type": "code",
   "execution_count": 39,
   "id": "dfc1e66f-2d89-4c0b-a6b9-a7d93e6e24d3",
   "metadata": {},
   "outputs": [],
   "source": [
    "# Drop the original columns\n",
    "data = data.drop(['Has Table booking', 'Has Online delivery'], axis=1)\n"
   ]
  },
  {
   "cell_type": "code",
   "execution_count": 40,
   "id": "92da4818-9b37-4737-9aca-fe4772c8c2f5",
   "metadata": {},
   "outputs": [
    {
     "data": {
      "text/plain": [
       "Index(['Restaurant ID', 'Restaurant Name', 'Country Code', 'City', 'Address',\n",
       "       'Locality', 'Locality Verbose', 'Longitude', 'Latitude', 'Cuisines',\n",
       "       'Average Cost for two', 'Currency', 'Is delivering now',\n",
       "       'Switch to order menu', 'Price range', 'Aggregate rating',\n",
       "       'Rating color', 'Rating text', 'Votes', 'Restaurant Name Length',\n",
       "       'Address Length', 'Has_Table_Booking', 'Has_Online_Delivery'],\n",
       "      dtype='object')"
      ]
     },
     "execution_count": 40,
     "metadata": {},
     "output_type": "execute_result"
    }
   ],
   "source": [
    "data.columns"
   ]
  },
  {
   "cell_type": "code",
   "execution_count": null,
   "id": "4150b0f8-1fa1-4669-8fc2-0fa940ed5ec5",
   "metadata": {},
   "outputs": [],
   "source": []
  }
 ],
 "metadata": {
  "kernelspec": {
   "display_name": "Python 3 (ipykernel)",
   "language": "python",
   "name": "python3"
  },
  "language_info": {
   "codemirror_mode": {
    "name": "ipython",
    "version": 3
   },
   "file_extension": ".py",
   "mimetype": "text/x-python",
   "name": "python",
   "nbconvert_exporter": "python",
   "pygments_lexer": "ipython3",
   "version": "3.11.7"
  }
 },
 "nbformat": 4,
 "nbformat_minor": 5
}
